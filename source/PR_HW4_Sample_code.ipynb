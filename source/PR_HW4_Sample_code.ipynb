{
  "nbformat": 4,
  "nbformat_minor": 0,
  "metadata": {
    "colab": {
      "provenance": []
    },
    "kernelspec": {
      "name": "python3",
      "display_name": "Python 3"
    },
    "language_info": {
      "name": "python"
    }
  },
  "cells": [
    {
      "cell_type": "code",
      "execution_count": null,
      "metadata": {
        "id": "Z0yGksgOp91i"
      },
      "outputs": [],
      "source": [
        "import numpy as np\n",
        "import pandas as pd\n",
        "import matplotlib.pyplot as plt\n",
        "from sklearn.svm import SVC, SVR\n",
        "from sklearn.metrics import accuracy_score"
      ]
    },
    {
      "cell_type": "code",
      "source": [
        "# Load data\n",
        "x_train = np.load(\"x_train.npy\")\n",
        "y_train = np.load(\"y_train.npy\")\n",
        "x_test = np.load(\"x_test.npy\")\n",
        "y_test = np.load(\"y_test.npy\")"
      ],
      "metadata": {
        "id": "7ZYQFbA0qMZ-"
      },
      "execution_count": null,
      "outputs": []
    },
    {
      "cell_type": "code",
      "source": [
        "# 7000 data with 300 features\n",
        "print(x_train.shape)\n",
        "print(y_train.shape)\n",
        "print(x_test.shape)"
      ],
      "metadata": {
        "colab": {
          "base_uri": "https://localhost:8080/"
        },
        "id": "u0ewnfh6qOoM",
        "outputId": "d3773b37-9eb0-4497-ac22-b4b929d0ced6"
      },
      "execution_count": null,
      "outputs": [
        {
          "output_type": "stream",
          "name": "stdout",
          "text": [
            "(7000, 300)\n",
            "(7000,)\n",
            "(3000, 300)\n"
          ]
        }
      ]
    },
    {
      "cell_type": "code",
      "source": [
        "# It's a binary classification problem \n",
        "print(np.unique(y_train))"
      ],
      "metadata": {
        "colab": {
          "base_uri": "https://localhost:8080/"
        },
        "id": "ryZdU0fdqTkb",
        "outputId": "6b8fa0b1-b488-4c3d-b120-b5e0a1db26d9"
      },
      "execution_count": null,
      "outputs": [
        {
          "output_type": "stream",
          "name": "stdout",
          "text": [
            "[0 1]\n"
          ]
        }
      ]
    },
    {
      "cell_type": "markdown",
      "source": [
        "# Q1"
      ],
      "metadata": {
        "id": "qy1aMJ7sqwwg"
      }
    },
    {
      "cell_type": "code",
      "source": [
        "def cross_validation(x_train, y_train, k=5):\n",
        "    \n",
        "    # Do not modify the function name and always take 'x_train, y_train, k' as the inputs.\n",
        "\n",
        "    # TODO HERE\n",
        "    \n",
        "    return NotImplementedError"
      ],
      "metadata": {
        "id": "TI26_jRbqVX3"
      },
      "execution_count": null,
      "outputs": []
    },
    {
      "cell_type": "code",
      "source": [
        "kfold_data = cross_validation(x_train, y_train, k=10)\n",
        "assert len(kfold_data) == 10 # should contain 10 fold of data\n",
        "assert len(kfold_data[0]) == 2 # each element should contain train fold and validation fold\n",
        "assert kfold_data[0][1].shape[0] == 700 # The number of data in each validation fold should equal to training data divieded by K"
      ],
      "metadata": {
        "id": "7jTma6saqf3E"
      },
      "execution_count": null,
      "outputs": []
    },
    {
      "cell_type": "markdown",
      "source": [
        "# K-Fold Example"
      ],
      "metadata": {
        "id": "IccJcpN_q0Z0"
      }
    },
    {
      "cell_type": "code",
      "source": [
        "from sklearn.model_selection import KFold\n",
        "\n",
        "X = np.arange(20)\n",
        "\n",
        "kf = KFold(n_splits=5, shuffle=True)\n",
        "kfold_data= []\n",
        "for i, (train_index, val_index) in enumerate(kf.split(X)):\n",
        "    print(\"Split: %s, Training index: %s, Validation index: %s\" % (i+1, train_index, val_index))\n",
        "    kfold_data.append([train_index, val_index])"
      ],
      "metadata": {
        "id": "O_zT2TAzqjay"
      },
      "execution_count": null,
      "outputs": []
    },
    {
      "cell_type": "code",
      "source": [
        "assert len(kfold_data) == 5 # should contain 5 fold of data\n",
        "assert len(kfold_data[0]) == 2 # each element should contains index of training fold and validation fold\n",
        "assert kfold_data[0][1].shape[0] == 4 # The number of data in each validation fold should equal to training data divieded by K"
      ],
      "metadata": {
        "id": "lYCTmie5qnow"
      },
      "execution_count": null,
      "outputs": []
    },
    {
      "cell_type": "markdown",
      "source": [
        "## Q2"
      ],
      "metadata": {
        "id": "Gh-DQiNiq5v0"
      }
    },
    {
      "cell_type": "code",
      "source": [
        "# (Example) Using SVC from sklearn\n",
        "\n",
        "clf = SVC(C=1.0, gamma=0.01, kernel='rbf')"
      ],
      "metadata": {
        "id": "31V1fW7Qq6la"
      },
      "execution_count": null,
      "outputs": []
    },
    {
      "cell_type": "code",
      "source": [
        "best_c, best_gamma = None, None\n",
        "\n",
        "# TODO HERE\n",
        "# k-Flod Cross Validation and Grid Search\n",
        "\n",
        "best_parameters=(best_c, best_gamma)"
      ],
      "metadata": {
        "id": "VzBT0t6Yq_Dj"
      },
      "execution_count": null,
      "outputs": []
    },
    {
      "cell_type": "code",
      "source": [
        "print(\"(best_c, best_gamma) is \", best_parameters)"
      ],
      "metadata": {
        "id": "mGTyHMFgrAXd",
        "colab": {
          "base_uri": "https://localhost:8080/"
        },
        "outputId": "0bcf7ac5-c479-4db5-8a9d-d00b083b9b42"
      },
      "execution_count": null,
      "outputs": [
        {
          "output_type": "stream",
          "name": "stdout",
          "text": [
            "(best_c, best_gamma) is  (0.1, 0.01)\n"
          ]
        }
      ]
    },
    {
      "cell_type": "markdown",
      "source": [
        "# Q3"
      ],
      "metadata": {
        "id": "KbPoOy0lrDPJ"
      }
    },
    {
      "cell_type": "code",
      "source": [
        "# Plot the grid search results of your SVM\n",
        "\n",
        "# TODO HERE"
      ],
      "metadata": {
        "id": "ibuxQOEQrEgJ"
      },
      "execution_count": null,
      "outputs": []
    },
    {
      "cell_type": "markdown",
      "source": [
        "## Q4"
      ],
      "metadata": {
        "id": "QVA-It-4rM9Q"
      }
    },
    {
      "cell_type": "code",
      "source": [
        "# Do Not Modify Below\n",
        "\n",
        "best_model = SVC(C=best_parameters[0], gamma=best_parameters[1], kernel='rbf')\n",
        "best_model.fit(x_train, y_train)\n",
        "\n",
        "y_pred = best_model.predict(x_test)\n",
        "\n",
        "print(\"Accuracy score: \", accuracy_score(y_pred, y_test))\n",
        "\n",
        "# If your accuracy here > 0.9 then you will get full credit (20 points)."
      ],
      "metadata": {
        "id": "Zl963HdLrMKg"
      },
      "execution_count": null,
      "outputs": []
    }
  ]
}