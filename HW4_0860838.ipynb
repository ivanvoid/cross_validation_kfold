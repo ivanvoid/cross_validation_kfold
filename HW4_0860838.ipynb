{
  "cells": [
    {
      "cell_type": "code",
      "execution_count": 4,
      "metadata": {
        "id": "Z0yGksgOp91i"
      },
      "outputs": [],
      "source": [
        "import numpy as np\n",
        "import pandas as pd\n",
        "import matplotlib.pyplot as plt\n",
        "from sklearn.svm import SVC, SVR\n",
        "from sklearn.metrics import accuracy_score"
      ]
    },
    {
      "cell_type": "code",
      "execution_count": 5,
      "metadata": {
        "id": "7ZYQFbA0qMZ-"
      },
      "outputs": [],
      "source": [
        "# Load data\n",
        "x_train = np.load(\"x_train.npy\")\n",
        "y_train = np.load(\"y_train.npy\")\n",
        "x_test = np.load(\"x_test.npy\")\n",
        "y_test = np.load(\"y_test.npy\")"
      ]
    },
    {
      "cell_type": "code",
      "execution_count": 6,
      "metadata": {
        "colab": {
          "base_uri": "https://localhost:8080/"
        },
        "id": "u0ewnfh6qOoM",
        "outputId": "d3773b37-9eb0-4497-ac22-b4b929d0ced6"
      },
      "outputs": [
        {
          "name": "stdout",
          "output_type": "stream",
          "text": [
            "(7000, 300)\n",
            "(7000,)\n",
            "(3000, 300)\n"
          ]
        }
      ],
      "source": [
        "# 7000 data with 300 features\n",
        "print(x_train.shape)\n",
        "print(y_train.shape)\n",
        "print(x_test.shape)"
      ]
    },
    {
      "cell_type": "code",
      "execution_count": 7,
      "metadata": {
        "colab": {
          "base_uri": "https://localhost:8080/"
        },
        "id": "ryZdU0fdqTkb",
        "outputId": "6b8fa0b1-b488-4c3d-b120-b5e0a1db26d9"
      },
      "outputs": [
        {
          "name": "stdout",
          "output_type": "stream",
          "text": [
            "[0 1]\n"
          ]
        }
      ],
      "source": [
        "# It's a binary classification problem \n",
        "print(np.unique(y_train))"
      ]
    },
    {
      "cell_type": "markdown",
      "metadata": {
        "id": "qy1aMJ7sqwwg"
      },
      "source": [
        "# Q1"
      ]
    },
    {
      "cell_type": "code",
      "execution_count": 15,
      "metadata": {
        "id": "TI26_jRbqVX3"
      },
      "outputs": [
        {
          "data": {
            "text/plain": [
              "1050000"
            ]
          },
          "execution_count": 15,
          "metadata": {},
          "output_type": "execute_result"
        }
      ],
      "source": [
        "def cross_validation(x_train, y_train, k=5):\n",
        "    \n",
        "    # (x,y)\n",
        "    \n",
        "    return NotImplementedError\n",
        "\n",
        "# cross_validation(x_train, y_train, k=10)\n",
        "k = 2\n",
        "x_train.size // 2"
      ]
    },
    {
      "cell_type": "code",
      "execution_count": 9,
      "metadata": {
        "id": "7jTma6saqf3E"
      },
      "outputs": [
        {
          "ename": "TypeError",
          "evalue": "object of type 'type' has no len()",
          "output_type": "error",
          "traceback": [
            "\u001b[0;31m---------------------------------------------------------------------------\u001b[0m",
            "\u001b[0;31mTypeError\u001b[0m                                 Traceback (most recent call last)",
            "Cell \u001b[0;32mIn[9], line 2\u001b[0m\n\u001b[1;32m      1\u001b[0m kfold_data \u001b[39m=\u001b[39m cross_validation(x_train, y_train, k\u001b[39m=\u001b[39m\u001b[39m10\u001b[39m)\n\u001b[0;32m----> 2\u001b[0m \u001b[39massert\u001b[39;00m \u001b[39mlen\u001b[39;49m(kfold_data) \u001b[39m==\u001b[39m \u001b[39m10\u001b[39m \u001b[39m# should contain 10 fold of data\u001b[39;00m\n\u001b[1;32m      3\u001b[0m \u001b[39massert\u001b[39;00m \u001b[39mlen\u001b[39m(kfold_data[\u001b[39m0\u001b[39m]) \u001b[39m==\u001b[39m \u001b[39m2\u001b[39m \u001b[39m# each element should contain train fold and validation fold\u001b[39;00m\n\u001b[1;32m      4\u001b[0m \u001b[39massert\u001b[39;00m kfold_data[\u001b[39m0\u001b[39m][\u001b[39m1\u001b[39m]\u001b[39m.\u001b[39mshape[\u001b[39m0\u001b[39m] \u001b[39m==\u001b[39m \u001b[39m700\u001b[39m\n",
            "\u001b[0;31mTypeError\u001b[0m: object of type 'type' has no len()"
          ]
        }
      ],
      "source": [
        "kfold_data = cross_validation(x_train, y_train, k=10)\n",
        "assert len(kfold_data) == 10 # should contain 10 fold of data\n",
        "assert len(kfold_data[0]) == 2 # each element should contain train fold and validation fold\n",
        "assert kfold_data[0][1].shape[0] == 700 # The number of data in each validation fold should equal to training data divieded by K"
      ]
    },
    {
      "cell_type": "markdown",
      "metadata": {
        "id": "IccJcpN_q0Z0"
      },
      "source": [
        "# K-Fold Example"
      ]
    },
    {
      "cell_type": "code",
      "execution_count": null,
      "metadata": {
        "id": "O_zT2TAzqjay"
      },
      "outputs": [],
      "source": [
        "from sklearn.model_selection import KFold\n",
        "\n",
        "X = np.arange(20)\n",
        "\n",
        "kf = KFold(n_splits=5, shuffle=True)\n",
        "kfold_data= []\n",
        "for i, (train_index, val_index) in enumerate(kf.split(X)):\n",
        "    print(\"Split: %s, Training index: %s, Validation index: %s\" % (i+1, train_index, val_index))\n",
        "    kfold_data.append([train_index, val_index])"
      ]
    },
    {
      "cell_type": "code",
      "execution_count": null,
      "metadata": {
        "id": "lYCTmie5qnow"
      },
      "outputs": [],
      "source": [
        "assert len(kfold_data) == 5 # should contain 5 fold of data\n",
        "assert len(kfold_data[0]) == 2 # each element should contains index of training fold and validation fold\n",
        "assert kfold_data[0][1].shape[0] == 4 # The number of data in each validation fold should equal to training data divieded by K"
      ]
    },
    {
      "cell_type": "markdown",
      "metadata": {
        "id": "Gh-DQiNiq5v0"
      },
      "source": [
        "## Q2"
      ]
    },
    {
      "cell_type": "code",
      "execution_count": null,
      "metadata": {
        "id": "31V1fW7Qq6la"
      },
      "outputs": [],
      "source": [
        "# (Example) Using SVC from sklearn\n",
        "\n",
        "clf = SVC(C=1.0, gamma=0.01, kernel='rbf')"
      ]
    },
    {
      "cell_type": "code",
      "execution_count": null,
      "metadata": {
        "id": "VzBT0t6Yq_Dj"
      },
      "outputs": [],
      "source": [
        "best_c, best_gamma = None, None\n",
        "\n",
        "# TODO HERE\n",
        "# k-Flod Cross Validation and Grid Search\n",
        "\n",
        "best_parameters=(best_c, best_gamma)"
      ]
    },
    {
      "cell_type": "code",
      "execution_count": null,
      "metadata": {
        "colab": {
          "base_uri": "https://localhost:8080/"
        },
        "id": "mGTyHMFgrAXd",
        "outputId": "0bcf7ac5-c479-4db5-8a9d-d00b083b9b42"
      },
      "outputs": [
        {
          "name": "stdout",
          "output_type": "stream",
          "text": [
            "(best_c, best_gamma) is  (0.1, 0.01)\n"
          ]
        }
      ],
      "source": [
        "print(\"(best_c, best_gamma) is \", best_parameters)"
      ]
    },
    {
      "cell_type": "markdown",
      "metadata": {
        "id": "KbPoOy0lrDPJ"
      },
      "source": [
        "# Q3"
      ]
    },
    {
      "cell_type": "code",
      "execution_count": null,
      "metadata": {
        "id": "ibuxQOEQrEgJ"
      },
      "outputs": [],
      "source": [
        "# Plot the grid search results of your SVM\n",
        "\n",
        "# TODO HERE"
      ]
    },
    {
      "cell_type": "markdown",
      "metadata": {
        "id": "QVA-It-4rM9Q"
      },
      "source": [
        "## Q4"
      ]
    },
    {
      "cell_type": "code",
      "execution_count": null,
      "metadata": {
        "id": "Zl963HdLrMKg"
      },
      "outputs": [],
      "source": [
        "# Do Not Modify Below\n",
        "\n",
        "best_model = SVC(C=best_parameters[0], gamma=best_parameters[1], kernel='rbf')\n",
        "best_model.fit(x_train, y_train)\n",
        "\n",
        "y_pred = best_model.predict(x_test)\n",
        "\n",
        "print(\"Accuracy score: \", accuracy_score(y_pred, y_test))\n",
        "\n",
        "# If your accuracy here > 0.9 then you will get full credit (20 points)."
      ]
    }
  ],
  "metadata": {
    "colab": {
      "provenance": []
    },
    "kernelspec": {
      "display_name": "Python 3",
      "name": "python3"
    },
    "language_info": {
      "codemirror_mode": {
        "name": "ipython",
        "version": 3
      },
      "file_extension": ".py",
      "mimetype": "text/x-python",
      "name": "python",
      "nbconvert_exporter": "python",
      "pygments_lexer": "ipython3",
      "version": "3.10.9"
    }
  },
  "nbformat": 4,
  "nbformat_minor": 0
}
